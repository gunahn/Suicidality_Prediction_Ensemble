{
  "nbformat": 4,
  "nbformat_minor": 0,
  "metadata": {
    "kernelspec": {
      "display_name": "Python 3",
      "language": "python",
      "name": "python3"
    },
    "language_info": {
      "codemirror_mode": {
        "name": "ipython",
        "version": 3
      },
      "file_extension": ".py",
      "mimetype": "text/x-python",
      "name": "python",
      "nbconvert_exporter": "python",
      "pygments_lexer": "ipython3",
      "version": "3.6.10"
    },
    "colab": {
      "provenance": [],
      "collapsed_sections": []
    },
    "accelerator": "GPU"
  },
  "cells": [
    {
      "cell_type": "markdown",
      "metadata": {
        "id": "YHPn4BmW9mhI"
      },
      "source": [
        "# Stacking ensemble to generalize the results of each tabNet result\n",
        "\n",
        "When we get the results of each single tabNet result using only one MRI data, we choose stacking ensemble model to generalize the results and get higher AUC scores.\n",
        "\n",
        "We stack the single tabNet model which is trained to predict suicidal ideation of the children.\n",
        "\n",
        "In this code, we stack tabNet model trained with structural MRI and model trained with diffusion MRI."
      ]
    },
    {
      "cell_type": "markdown",
      "metadata": {
        "id": "JEp8XyoG-Cwr"
      },
      "source": [
        "# Get ready to work!"
      ]
    },
    {
      "cell_type": "markdown",
      "metadata": {
        "id": "K7EbF4nS_AQB"
      },
      "source": [
        "## 1. Import libraries and load dataset"
      ]
    },
    {
      "cell_type": "code",
      "metadata": {
        "colab": {
          "base_uri": "https://localhost:8080/"
        },
        "id": "YLf7gfxdBew9",
        "outputId": "58dda7a3-6f6f-4aad-99ea-515f2ce80f55"
      },
      "source": [
        "from google.colab import drive\n",
        "drive.mount('content')"
      ],
      "execution_count": null,
      "outputs": [
        {
          "output_type": "stream",
          "text": [
            "Drive already mounted at content; to attempt to forcibly remount, call drive.mount(\"content\", force_remount=True).\n"
          ],
          "name": "stdout"
        }
      ]
    },
    {
      "cell_type": "code",
      "metadata": {
        "colab": {
          "base_uri": "https://localhost:8080/"
        },
        "id": "3cvaqth_d1aJ",
        "outputId": "7345d595-d75d-4f24-b882-16e95a255312"
      },
      "source": [
        "!pip install pytorch_tabnet"
      ],
      "execution_count": null,
      "outputs": [
        {
          "output_type": "stream",
          "text": [
            "Collecting pytorch_tabnet\n",
            "  Downloading https://files.pythonhosted.org/packages/94/e5/2a808d611a5d44e3c997c0d07362c04a56c70002208e00aec9eee3d923b5/pytorch_tabnet-3.1.1-py3-none-any.whl\n",
            "Requirement already satisfied: tqdm<5.0,>=4.36 in /usr/local/lib/python3.7/dist-packages (from pytorch_tabnet) (4.41.1)\n",
            "Requirement already satisfied: numpy<2.0,>=1.17 in /usr/local/lib/python3.7/dist-packages (from pytorch_tabnet) (1.19.5)\n",
            "Requirement already satisfied: scipy>1.4 in /usr/local/lib/python3.7/dist-packages (from pytorch_tabnet) (1.4.1)\n",
            "Requirement already satisfied: scikit_learn>0.21 in /usr/local/lib/python3.7/dist-packages (from pytorch_tabnet) (0.22.2.post1)\n",
            "Requirement already satisfied: torch<2.0,>=1.2 in /usr/local/lib/python3.7/dist-packages (from pytorch_tabnet) (1.9.0+cu102)\n",
            "Requirement already satisfied: joblib>=0.11 in /usr/local/lib/python3.7/dist-packages (from scikit_learn>0.21->pytorch_tabnet) (1.0.1)\n",
            "Requirement already satisfied: typing-extensions in /usr/local/lib/python3.7/dist-packages (from torch<2.0,>=1.2->pytorch_tabnet) (3.7.4.3)\n",
            "Installing collected packages: pytorch-tabnet\n",
            "Successfully installed pytorch-tabnet-3.1.1\n"
          ],
          "name": "stdout"
        }
      ]
    },
    {
      "cell_type": "code",
      "metadata": {
        "scrolled": true,
        "colab": {
          "base_uri": "https://localhost:8080/"
        },
        "id": "NNqsE6WD85Sf",
        "outputId": "95647ac2-5507-4be7-9fa2-47fb650a5496"
      },
      "source": [
        "from sklearn.datasets import load_iris\n",
        "from mlxtend.classifier import StackingClassifier\n",
        "from mlxtend.feature_selection import ColumnSelector\n",
        "from sklearn.pipeline import make_pipeline\n",
        "from sklearn.linear_model import LogisticRegression\n",
        "from pathlib import Path\n",
        "import pandas as pd\n",
        "import numpy as np\n",
        "import dill\n",
        "import os\n",
        "\n",
        "#train_out = Path('si_ppc_rsf(corr)_s_dMRI_train.csv')\n",
        "#test_out =Path('si_ppc_rsf(corr)_s_dMRI_test.csv')\n",
        "train_out = '/content/sample_data/si_ppc_rsf(corr)_s_dMRI_train.csv'\n",
        "test_out = '/content/sample_data/si_ppc_rsf(corr)_s_dMRI_test.csv'\n",
        "\n",
        "train_data= pd.read_csv(train_out)\n",
        "test_data= pd.read_csv(test_out)\n",
        "print(len(train_data), len(test_data))\n",
        "\n",
        "target ='Suicidalideation'\n",
        "unused_feat = ['subjectkey', 'abcd_site']\n",
        "\n",
        "# get class value from data (not trained model)\n",
        "real_train_subjkey = train_data['subjectkey']\n",
        "real_test_subjkey = test_data['subjectkey']"
      ],
      "execution_count": null,
      "outputs": [
        {
          "output_type": "stream",
          "text": [
            "5510 317\n"
          ],
          "name": "stdout"
        }
      ]
    },
    {
      "cell_type": "markdown",
      "metadata": {
        "id": "MA_1UpKR_ZkO"
      },
      "source": [
        "## 2. Load model trained with single MRI dataset\n",
        "\n",
        "To stack two model, we have to load the result probability values of the single TabNet models.\n",
        "\n",
        "Probability values will be the input of the meta-learner.\n"
      ]
    },
    {
      "cell_type": "markdown",
      "metadata": {
        "id": "0FjpOEON_k6g"
      },
      "source": [
        "### Open the tabNet model trained with structural MRI\n",
        "\n",
        "In 'Suicidality_TabNet.ipynb' code, there are functions saving probability(preds_prob_) and class value(Y_) with subject keys.\n",
        "\n",
        "In this code, we load the results of saved model to get probability and class value.\n",
        "\n",
        "*   probability: After training, the result probability from testing/predicting by subjects\n",
        "*   class value: ground truth by subjects\n"
      ]
    },
    {
      "cell_type": "code",
      "metadata": {
        "colab": {
          "base_uri": "https://localhost:8080/"
        },
        "id": "RQ0igmum85Sg",
        "outputId": "9f32b294-c8b4-47cc-9f49-5664b07d1f6c"
      },
      "source": [
        "\"\"\"sMRI model\"\"\"\n",
        "with open('/content/sample_data/new_SMRI.pkl', 'rb') as f:\n",
        "    sMRI_model = dill.load(f, encoding='utf-8')\n",
        "\n",
        "# define probability array\n",
        "sMRI_validation_prob_result = np.array(sMRI_model.valid_prob_result.iloc[:,2])\n",
        "sMRI_test_prob_result = np.array(sMRI_model.test_prob_result.iloc[:,2])\n",
        "\n",
        "# define subject array\n",
        "sMRI_y_valid_subject = sMRI_model.valid_prob_result.iloc[:,0].tolist()\n",
        "sMRI_y_test_subject = sMRI_model.test_prob_result.iloc[:,0].tolist()\n",
        "\n",
        "print(len(sMRI_validation_prob_result))\n",
        "print(len(sMRI_test_prob_result))\n",
        "print(len(sMRI_y_valid_subject))\n",
        "print(len(sMRI_y_test_subject))"
      ],
      "execution_count": null,
      "outputs": [
        {
          "output_type": "stream",
          "text": [
            "5510\n",
            "317\n",
            "5510\n",
            "317\n"
          ],
          "name": "stdout"
        }
      ]
    },
    {
      "cell_type": "code",
      "metadata": {
        "colab": {
          "base_uri": "https://localhost:8080/",
          "height": 419
        },
        "id": "ezrdpVP5Cgy6",
        "outputId": "cfd4f3f3-d691-45fb-b637-e2f8a4094c20"
      },
      "source": [
        "sMRI_model.valid_prob_result"
      ],
      "execution_count": null,
      "outputs": [
        {
          "output_type": "execute_result",
          "data": {
            "text/html": [
              "<div>\n",
              "<style scoped>\n",
              "    .dataframe tbody tr th:only-of-type {\n",
              "        vertical-align: middle;\n",
              "    }\n",
              "\n",
              "    .dataframe tbody tr th {\n",
              "        vertical-align: top;\n",
              "    }\n",
              "\n",
              "    .dataframe thead th {\n",
              "        text-align: right;\n",
              "    }\n",
              "</style>\n",
              "<table border=\"1\" class=\"dataframe\">\n",
              "  <thead>\n",
              "    <tr style=\"text-align: right;\">\n",
              "      <th></th>\n",
              "      <th>subjectkey</th>\n",
              "      <th>Y_</th>\n",
              "      <th>preds_prob_</th>\n",
              "    </tr>\n",
              "  </thead>\n",
              "  <tbody>\n",
              "    <tr>\n",
              "      <th>0</th>\n",
              "      <td>NDARINVZVGAMFG7</td>\n",
              "      <td>0</td>\n",
              "      <td>0.027991</td>\n",
              "    </tr>\n",
              "    <tr>\n",
              "      <th>1</th>\n",
              "      <td>NDARINVWU8LHADL</td>\n",
              "      <td>0</td>\n",
              "      <td>0.037669</td>\n",
              "    </tr>\n",
              "    <tr>\n",
              "      <th>2</th>\n",
              "      <td>NDARINVHP3KMLEB</td>\n",
              "      <td>0</td>\n",
              "      <td>0.050731</td>\n",
              "    </tr>\n",
              "    <tr>\n",
              "      <th>3</th>\n",
              "      <td>NDARINV4HX3418K</td>\n",
              "      <td>0</td>\n",
              "      <td>0.038738</td>\n",
              "    </tr>\n",
              "    <tr>\n",
              "      <th>4</th>\n",
              "      <td>NDARINVT3Z5YXE1</td>\n",
              "      <td>0</td>\n",
              "      <td>0.065922</td>\n",
              "    </tr>\n",
              "    <tr>\n",
              "      <th>...</th>\n",
              "      <td>...</td>\n",
              "      <td>...</td>\n",
              "      <td>...</td>\n",
              "    </tr>\n",
              "    <tr>\n",
              "      <th>5505</th>\n",
              "      <td>NDARINVP4GPP1NB</td>\n",
              "      <td>1</td>\n",
              "      <td>0.084422</td>\n",
              "    </tr>\n",
              "    <tr>\n",
              "      <th>5506</th>\n",
              "      <td>NDARINV8P2DZ5TR</td>\n",
              "      <td>0</td>\n",
              "      <td>0.060809</td>\n",
              "    </tr>\n",
              "    <tr>\n",
              "      <th>5507</th>\n",
              "      <td>NDARINVBZH975R2</td>\n",
              "      <td>0</td>\n",
              "      <td>0.049012</td>\n",
              "    </tr>\n",
              "    <tr>\n",
              "      <th>5508</th>\n",
              "      <td>NDARINV34HCN2RW</td>\n",
              "      <td>0</td>\n",
              "      <td>0.057252</td>\n",
              "    </tr>\n",
              "    <tr>\n",
              "      <th>5509</th>\n",
              "      <td>NDARINVLVJCXFZ6</td>\n",
              "      <td>0</td>\n",
              "      <td>0.051134</td>\n",
              "    </tr>\n",
              "  </tbody>\n",
              "</table>\n",
              "<p>5510 rows × 3 columns</p>\n",
              "</div>"
            ],
            "text/plain": [
              "           subjectkey  Y_  preds_prob_\n",
              "0     NDARINVZVGAMFG7   0     0.027991\n",
              "1     NDARINVWU8LHADL   0     0.037669\n",
              "2     NDARINVHP3KMLEB   0     0.050731\n",
              "3     NDARINV4HX3418K   0     0.038738\n",
              "4     NDARINVT3Z5YXE1   0     0.065922\n",
              "...               ...  ..          ...\n",
              "5505  NDARINVP4GPP1NB   1     0.084422\n",
              "5506  NDARINV8P2DZ5TR   0     0.060809\n",
              "5507  NDARINVBZH975R2   0     0.049012\n",
              "5508  NDARINV34HCN2RW   0     0.057252\n",
              "5509  NDARINVLVJCXFZ6   0     0.051134\n",
              "\n",
              "[5510 rows x 3 columns]"
            ]
          },
          "metadata": {
            "tags": []
          },
          "execution_count": 12
        }
      ]
    },
    {
      "cell_type": "code",
      "metadata": {
        "colab": {
          "base_uri": "https://localhost:8080/"
        },
        "id": "hoqCjGFZ85Sh",
        "outputId": "4ca45983-8e97-49ea-bad6-7d68e9c16054"
      },
      "source": [
        "\"\"\"Import four arrays from three stored TabNet models\"\"\"\n",
        "\"\"\"dMRI model\"\"\"\n",
        "with open('/content/sample_data/new_DMRI.pkl', 'rb') as f:\n",
        "    dMRI_model = dill.load(f, encoding='utf-8')\n",
        "\n",
        "# define probability array\n",
        "dMRI_validation_prob_result = np.array(dMRI_model.valid_prob_result.iloc[:,2])\n",
        "dMRI_test_prob_result = np.array(dMRI_model.test_prob_result.iloc[:,2])\n",
        "\n",
        "# define subject array\n",
        "dMRI_y_valid_subject = dMRI_model.valid_prob_result.iloc[:,0].tolist()\n",
        "dMRI_y_test_subject = dMRI_model.test_prob_result.iloc[:,0].tolist()\n",
        "\n",
        "print(len(dMRI_validation_prob_result))\n",
        "print(len(dMRI_test_prob_result))\n",
        "print(len(dMRI_y_valid_subject))\n",
        "print(len(dMRI_y_test_subject))"
      ],
      "execution_count": null,
      "outputs": [
        {
          "output_type": "stream",
          "text": [
            "5510\n",
            "317\n",
            "5510\n",
            "317\n"
          ],
          "name": "stdout"
        }
      ]
    },
    {
      "cell_type": "code",
      "metadata": {
        "colab": {
          "base_uri": "https://localhost:8080/",
          "height": 419
        },
        "id": "D4jLl7Px85Sh",
        "outputId": "c8a2498b-3326-4d88-a432-d46069a8e4fb"
      },
      "source": [
        "dMRI_model.valid_prob_result"
      ],
      "execution_count": null,
      "outputs": [
        {
          "output_type": "execute_result",
          "data": {
            "text/html": [
              "<div>\n",
              "<style scoped>\n",
              "    .dataframe tbody tr th:only-of-type {\n",
              "        vertical-align: middle;\n",
              "    }\n",
              "\n",
              "    .dataframe tbody tr th {\n",
              "        vertical-align: top;\n",
              "    }\n",
              "\n",
              "    .dataframe thead th {\n",
              "        text-align: right;\n",
              "    }\n",
              "</style>\n",
              "<table border=\"1\" class=\"dataframe\">\n",
              "  <thead>\n",
              "    <tr style=\"text-align: right;\">\n",
              "      <th></th>\n",
              "      <th>subjectkey</th>\n",
              "      <th>Y_</th>\n",
              "      <th>preds_prob_</th>\n",
              "    </tr>\n",
              "  </thead>\n",
              "  <tbody>\n",
              "    <tr>\n",
              "      <th>0</th>\n",
              "      <td>NDARINVZVGAMFG7</td>\n",
              "      <td>0</td>\n",
              "      <td>0.050195</td>\n",
              "    </tr>\n",
              "    <tr>\n",
              "      <th>1</th>\n",
              "      <td>NDARINVWU8LHADL</td>\n",
              "      <td>0</td>\n",
              "      <td>0.064870</td>\n",
              "    </tr>\n",
              "    <tr>\n",
              "      <th>2</th>\n",
              "      <td>NDARINVHP3KMLEB</td>\n",
              "      <td>0</td>\n",
              "      <td>0.068794</td>\n",
              "    </tr>\n",
              "    <tr>\n",
              "      <th>3</th>\n",
              "      <td>NDARINV4HX3418K</td>\n",
              "      <td>0</td>\n",
              "      <td>0.058853</td>\n",
              "    </tr>\n",
              "    <tr>\n",
              "      <th>4</th>\n",
              "      <td>NDARINVT3Z5YXE1</td>\n",
              "      <td>0</td>\n",
              "      <td>0.061689</td>\n",
              "    </tr>\n",
              "    <tr>\n",
              "      <th>...</th>\n",
              "      <td>...</td>\n",
              "      <td>...</td>\n",
              "      <td>...</td>\n",
              "    </tr>\n",
              "    <tr>\n",
              "      <th>5505</th>\n",
              "      <td>NDARINVP4GPP1NB</td>\n",
              "      <td>1</td>\n",
              "      <td>0.113498</td>\n",
              "    </tr>\n",
              "    <tr>\n",
              "      <th>5506</th>\n",
              "      <td>NDARINV8P2DZ5TR</td>\n",
              "      <td>0</td>\n",
              "      <td>0.089805</td>\n",
              "    </tr>\n",
              "    <tr>\n",
              "      <th>5507</th>\n",
              "      <td>NDARINVBZH975R2</td>\n",
              "      <td>0</td>\n",
              "      <td>0.098930</td>\n",
              "    </tr>\n",
              "    <tr>\n",
              "      <th>5508</th>\n",
              "      <td>NDARINV34HCN2RW</td>\n",
              "      <td>0</td>\n",
              "      <td>0.087397</td>\n",
              "    </tr>\n",
              "    <tr>\n",
              "      <th>5509</th>\n",
              "      <td>NDARINVLVJCXFZ6</td>\n",
              "      <td>0</td>\n",
              "      <td>0.090343</td>\n",
              "    </tr>\n",
              "  </tbody>\n",
              "</table>\n",
              "<p>5510 rows × 3 columns</p>\n",
              "</div>"
            ],
            "text/plain": [
              "           subjectkey  Y_  preds_prob_\n",
              "0     NDARINVZVGAMFG7   0     0.050195\n",
              "1     NDARINVWU8LHADL   0     0.064870\n",
              "2     NDARINVHP3KMLEB   0     0.068794\n",
              "3     NDARINV4HX3418K   0     0.058853\n",
              "4     NDARINVT3Z5YXE1   0     0.061689\n",
              "...               ...  ..          ...\n",
              "5505  NDARINVP4GPP1NB   1     0.113498\n",
              "5506  NDARINV8P2DZ5TR   0     0.089805\n",
              "5507  NDARINVBZH975R2   0     0.098930\n",
              "5508  NDARINV34HCN2RW   0     0.087397\n",
              "5509  NDARINVLVJCXFZ6   0     0.090343\n",
              "\n",
              "[5510 rows x 3 columns]"
            ]
          },
          "metadata": {
            "tags": []
          },
          "execution_count": 14
        }
      ]
    },
    {
      "cell_type": "markdown",
      "metadata": {
        "id": "p4revaQeE7X2"
      },
      "source": [
        "## Sort train/test data by subject key value loaded from each TabNet model\n",
        "\n",
        "In each TabNet model, the orders of subject keys are the same.\n",
        "So we sort train data using dMRI model and sort test data using sMRI model."
      ]
    },
    {
      "cell_type": "code",
      "metadata": {
        "colab": {
          "base_uri": "https://localhost:8080/"
        },
        "id": "JC-yDugG85Si",
        "outputId": "a7e0a7c3-8e8f-4775-aee6-7425715e03d2"
      },
      "source": [
        "# train data -> using subjectkey order of dMRI model\n",
        "real_train_y = []\n",
        "real_train_new_subjkey = []\n",
        "for i in range(len(dMRI_y_valid_subject)):\n",
        "    for j in range(len(real_train_subjkey)):\n",
        "        if(dMRI_y_valid_subject[i] == real_train_subjkey[j]):\n",
        "            real_train_y.append(train_data[target][j])\n",
        "            real_train_new_subjkey.append(real_train_subjkey[j])\n",
        "            break\n",
        "print(dMRI_y_valid_subject == real_train_new_subjkey)\n",
        "\n",
        "# test data -> using subjectkey order of sMRI model\n",
        "real_test_y = []\n",
        "real_test_new_subjkey = []\n",
        "for i in range(len(sMRI_y_test_subject)):\n",
        "    for j in range(len(real_test_subjkey)):\n",
        "        if(sMRI_y_test_subject[i] == real_test_subjkey[j]):\n",
        "            real_test_y.append(test_data[target][j])\n",
        "            real_test_new_subjkey.append(real_test_subjkey[j])\n",
        "            break\n",
        "print(sMRI_y_test_subject == real_test_new_subjkey)"
      ],
      "execution_count": null,
      "outputs": [
        {
          "output_type": "stream",
          "text": [
            "True\n",
            "True\n"
          ],
          "name": "stdout"
        }
      ]
    },
    {
      "cell_type": "code",
      "metadata": {
        "colab": {
          "base_uri": "https://localhost:8080/"
        },
        "id": "giBAH0GQ85Si",
        "outputId": "eaaa249e-a790-47b2-8578-b1561c2523b1"
      },
      "source": [
        "dMRI_y_valid_subject == sMRI_y_valid_subject == real_train_new_subjkey"
      ],
      "execution_count": null,
      "outputs": [
        {
          "output_type": "execute_result",
          "data": {
            "text/plain": [
              "True"
            ]
          },
          "metadata": {
            "tags": []
          },
          "execution_count": 16
        }
      ]
    },
    {
      "cell_type": "code",
      "metadata": {
        "colab": {
          "base_uri": "https://localhost:8080/"
        },
        "id": "MWdovpsa85Si",
        "outputId": "aab89a53-2ee7-4465-ec82-513198f9ed5d"
      },
      "source": [
        "dMRI_y_test_subject == sMRI_y_test_subject == real_test_new_subjkey"
      ],
      "execution_count": null,
      "outputs": [
        {
          "output_type": "execute_result",
          "data": {
            "text/plain": [
              "True"
            ]
          },
          "metadata": {
            "tags": []
          },
          "execution_count": 17
        }
      ]
    },
    {
      "cell_type": "markdown",
      "metadata": {
        "id": "GpoTFqBvFOa8"
      },
      "source": [
        "## Make train/test input dataset used in meta learner"
      ]
    },
    {
      "cell_type": "code",
      "metadata": {
        "colab": {
          "base_uri": "https://localhost:8080/"
        },
        "id": "MgQzNCIP85Si",
        "outputId": "3df8f8da-274c-40a2-9d5a-e1600d2baa94"
      },
      "source": [
        "\"\"\"Build Train, Test Dataset for Meta Learner\"\"\"\n",
        "\n",
        "\"\"\"y (ground truth) value array used in training\"\"\"\n",
        "y_train_data = {\n",
        "    \"sMRI\" : sMRI_validation_prob_result,\n",
        "    \"dMRI\" : dMRI_validation_prob_result\n",
        "}\n",
        "MRI_train_y = pd.DataFrame(y_train_data, columns=[\"sMRI\", \"dMRI\"])\n",
        "print(MRI_train_y)\n",
        "\n",
        "\"\"\"y (ground truth) value array used in testing\"\"\"\n",
        "y_test_data = {\n",
        "    \"sMRI\" : sMRI_test_prob_result,\n",
        "    \"dMRI\" : dMRI_test_prob_result\n",
        "}\n",
        "MRI_test_y = pd.DataFrame(y_test_data, columns=[\"sMRI\", \"dMRI\"])\n",
        "print(MRI_test_y)\n",
        "\n",
        "# X (input value) in meta learner\n",
        "print(len(MRI_train_y), len(MRI_test_y))\n",
        "\n",
        "# Y (output value) in meta learner\n",
        "print(len(real_train_y), len(real_test_y))"
      ],
      "execution_count": null,
      "outputs": [
        {
          "output_type": "stream",
          "text": [
            "          sMRI      dMRI\n",
            "0     0.027991  0.050195\n",
            "1     0.037669  0.064870\n",
            "2     0.050731  0.068794\n",
            "3     0.038738  0.058853\n",
            "4     0.065922  0.061689\n",
            "...        ...       ...\n",
            "5505  0.084422  0.113498\n",
            "5506  0.060809  0.089805\n",
            "5507  0.049012  0.098930\n",
            "5508  0.057252  0.087397\n",
            "5509  0.051134  0.090343\n",
            "\n",
            "[5510 rows x 2 columns]\n",
            "         sMRI      dMRI\n",
            "0    0.059449  0.067849\n",
            "1    0.071267  0.060311\n",
            "2    0.036613  0.041507\n",
            "3    0.160847  0.092787\n",
            "4    0.053307  0.046663\n",
            "..        ...       ...\n",
            "312  0.078056  0.068899\n",
            "313  0.081891  0.120372\n",
            "314  0.124456  0.146850\n",
            "315  0.044546  0.033701\n",
            "316  0.073807  0.056147\n",
            "\n",
            "[317 rows x 2 columns]\n",
            "5510 317\n",
            "5510 317\n"
          ],
          "name": "stdout"
        }
      ]
    },
    {
      "cell_type": "markdown",
      "metadata": {
        "id": "iafLuiEXFCsr"
      },
      "source": [
        "# Data is ready! Let's define meta learner and train the model\n",
        "\n",
        "We train three model (logistic regression, Xgboost, Random Forest) to compare results and find the best model."
      ]
    },
    {
      "cell_type": "markdown",
      "metadata": {
        "id": "wMw3EbXIGYGG"
      },
      "source": [
        "## 1. Logistic Regression"
      ]
    },
    {
      "cell_type": "code",
      "metadata": {
        "scrolled": true,
        "colab": {
          "base_uri": "https://localhost:8080/"
        },
        "id": "syGhxQzk85Sj",
        "outputId": "b200297c-c690-4067-b9d9-dc0bdd6e1818"
      },
      "source": [
        "\"\"\"1. Logistic Regression\"\"\"\n",
        "from sklearn.linear_model import LogisticRegression\n",
        "from sklearn.metrics import roc_auc_score\n",
        "\n",
        "model = LogisticRegression()\n",
        "model.fit(MRI_train_y, real_train_y)\n",
        "print(\"training data ACC:\",model.score(MRI_train_y, real_train_y))\n",
        "\n",
        "y_pred = model.predict(MRI_test_y)\n",
        "y_pred_prob = model.predict_proba(MRI_test_y)[:,1]\n",
        "\n",
        "print(\"testing data ACC:\",model.score(MRI_test_y, real_test_y))\n",
        "print(\"testing data AUC:\",roc_auc_score(real_test_y, y_pred_prob))"
      ],
      "execution_count": null,
      "outputs": [
        {
          "output_type": "stream",
          "text": [
            "training data ACC: 0.8865698729582577\n",
            "testing data ACC: 0.5141955835962145\n",
            "testing data AUC: 0.7371626462861238\n"
          ],
          "name": "stdout"
        }
      ]
    },
    {
      "cell_type": "markdown",
      "metadata": {
        "id": "yEw6VHB8Gb54"
      },
      "source": [
        "## 2. Xgboost"
      ]
    },
    {
      "cell_type": "code",
      "metadata": {
        "scrolled": true,
        "colab": {
          "base_uri": "https://localhost:8080/"
        },
        "id": "LkbRjvgA85Sj",
        "outputId": "f899695e-844f-4eee-c126-55307eec16a3"
      },
      "source": [
        "\"\"\"2. Xgboost\"\"\"\n",
        "import xgboost as xgb\n",
        "from sklearn.metrics import roc_auc_score, accuracy_score\n",
        "\n",
        "xgb_model = xgb.XGBClassifier(objective=\"binary:logistic\", random_state=42, eval_metric=\"auc\")\n",
        "xgb_model.fit(MRI_train_y, real_train_y)\n",
        "print(\"training data ACC:\",xgb_model.score(MRI_train_y, real_train_y))\n",
        "\n",
        "y_pred_xg = xgb_model.predict(MRI_test_y)\n",
        "print(\"testing data ACC:\",accuracy_score(real_test_y, y_pred_xg))\n",
        "\n",
        "preds_prob = xgb_model.predict_proba(MRI_test_y)\n",
        "print(\"testing data AUC:\",roc_auc_score(y_score=preds_prob[:,1], y_true=real_test_y))"
      ],
      "execution_count": null,
      "outputs": [
        {
          "output_type": "stream",
          "text": [
            "training data ACC: 0.8967332123411978\n",
            "testing data ACC: 0.5047318611987381\n",
            "testing data AUC: 0.7323461507841733\n"
          ],
          "name": "stdout"
        }
      ]
    },
    {
      "cell_type": "markdown",
      "metadata": {
        "id": "2zGCHmdTGeEC"
      },
      "source": [
        "## 3. Random Forest"
      ]
    },
    {
      "cell_type": "code",
      "metadata": {
        "colab": {
          "base_uri": "https://localhost:8080/"
        },
        "id": "vnXlQYu-85Sk",
        "outputId": "a124ca52-800a-4751-cc65-3148f18ac2ed"
      },
      "source": [
        "\"\"\"3. Random Forest\"\"\"\n",
        "from sklearn.ensemble import RandomForestClassifier\n",
        "\n",
        "clf = RandomForestClassifier(max_depth=2, random_state=0)\n",
        "clf.fit(MRI_train_y, real_train_y)\n",
        "\n",
        "y_preda = clf.predict(MRI_test_y)\n",
        "print(accuracy_score(real_test_y, y_preda))\n",
        "y_pred_prob = clf.predict_proba(MRI_test_y)[:,1]\n",
        "test_auc = roc_auc_score(y_score=y_pred_prob, y_true=real_test_y)\n",
        "print(test_auc)"
      ],
      "execution_count": null,
      "outputs": [
        {
          "output_type": "stream",
          "text": [
            "0.501577287066246\n",
            "0.7390932250616988\n"
          ],
          "name": "stdout"
        }
      ]
    },
    {
      "cell_type": "markdown",
      "metadata": {
        "id": "C-Xnt27XHDg8"
      },
      "source": [
        "# Saving the probability result from meta learner\n",
        "\n",
        "To see probability distribution, we save the predicting results of the meta learner."
      ]
    },
    {
      "cell_type": "code",
      "metadata": {
        "id": "cOUFdxhN85Sk"
      },
      "source": [
        "\"\"\"transform probability of predicting result to csv file\"\"\"\n",
        "import pandas as pd\n",
        "df = pd.DataFrame()\n",
        "df['subjectkey'] = real_test_new_subjkey\n",
        "df['Y_'] = y_pred_prob\n",
        "df['preds_prob'] = real_test_y\n",
        "df.to_csv('sMRI_dMRI_test_prob.csv', index=True)"
      ],
      "execution_count": null,
      "outputs": []
    },
    {
      "cell_type": "code",
      "metadata": {
        "id": "8c1MsZnS85Sl"
      },
      "source": [],
      "execution_count": null,
      "outputs": []
    }
  ]
}